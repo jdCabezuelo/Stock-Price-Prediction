{
 "cells": [
  {
   "cell_type": "markdown",
   "metadata": {},
   "source": [
    "## yahoo-finance-api 2 v0.0.8\n",
    "\n",
    "pip install yahoo-finance-api2\n",
    "\n",
    "https://pypi.org/project/yahoo-finance-api2/\n",
    "\n",
    "https://finance.yahoo.com"
   ]
  },
  {
   "cell_type": "code",
   "execution_count": 1,
   "metadata": {},
   "outputs": [],
   "source": [
    "import pandas as pd\n",
    "import datetime as dt\n",
    "import numpy as np\n",
    "from yahoo_finance_api2 import share\n",
    "from yahoo_finance_api2.exceptions import YahooFinanceError"
   ]
  },
  {
   "cell_type": "code",
   "execution_count": 2,
   "metadata": {},
   "outputs": [],
   "source": [
    "#Seleccionamos el símbolo que queremos obtener, en este caso Microsoft (MSFT)\n",
    "my_share = share.Share('MSFT')\n",
    "symbol_data = None"
   ]
  },
  {
   "cell_type": "code",
   "execution_count": 3,
   "metadata": {},
   "outputs": [],
   "source": [
    "#Obtenemos los datos para el último día con una frecuencia de 15 minutos y creamos el data frame\n",
    "try:\n",
    "    symbol_data = my_share.get_historical(share.PERIOD_TYPE_DAY, 1,\n",
    "                                         share.FREQUENCY_TYPE_MINUTE, 15)\n",
    "except YahooFinanceError as e:\n",
    "    print(e.message)\n",
    "    sys.exist(1)\n",
    "    \n",
    "df = pd.DataFrame(symbol_data)"
   ]
  },
  {
   "cell_type": "code",
   "execution_count": 4,
   "metadata": {},
   "outputs": [],
   "source": [
    "#Creamos una función para convertir el timestamp en datetime\n",
    "def convert_timestamp_to_date(timestamp):\n",
    "    return dt.datetime.fromtimestamp(timestamp/1000.0).isoformat()\n",
    "\n",
    "lst = list(map(convert_timestamp_to_date, df['timestamp']))\n",
    "\n",
    "#Añadimos la nueva columna de fecha y eliminamos el timestamp\n",
    "df.insert(1, 'date', lst)\n",
    "df.drop(['timestamp'], axis='columns', inplace=True)"
   ]
  },
  {
   "cell_type": "code",
   "execution_count": 5,
   "metadata": {},
   "outputs": [
    {
     "data": {
      "text/html": [
       "<div>\n",
       "<style scoped>\n",
       "    .dataframe tbody tr th:only-of-type {\n",
       "        vertical-align: middle;\n",
       "    }\n",
       "\n",
       "    .dataframe tbody tr th {\n",
       "        vertical-align: top;\n",
       "    }\n",
       "\n",
       "    .dataframe thead th {\n",
       "        text-align: right;\n",
       "    }\n",
       "</style>\n",
       "<table border=\"1\" class=\"dataframe\">\n",
       "  <thead>\n",
       "    <tr style=\"text-align: right;\">\n",
       "      <th></th>\n",
       "      <th>date</th>\n",
       "      <th>open</th>\n",
       "      <th>high</th>\n",
       "      <th>low</th>\n",
       "      <th>close</th>\n",
       "      <th>volume</th>\n",
       "    </tr>\n",
       "  </thead>\n",
       "  <tbody>\n",
       "    <tr>\n",
       "      <th>52</th>\n",
       "      <td>2019-10-23 15:30:00</td>\n",
       "      <td>136.880005</td>\n",
       "      <td>136.889999</td>\n",
       "      <td>135.809998</td>\n",
       "      <td>136.600006</td>\n",
       "      <td>3052310</td>\n",
       "    </tr>\n",
       "    <tr>\n",
       "      <th>53</th>\n",
       "      <td>2019-10-23 15:45:00</td>\n",
       "      <td>136.639999</td>\n",
       "      <td>136.839996</td>\n",
       "      <td>136.330002</td>\n",
       "      <td>136.399994</td>\n",
       "      <td>1201578</td>\n",
       "    </tr>\n",
       "    <tr>\n",
       "      <th>54</th>\n",
       "      <td>2019-10-23 16:00:00</td>\n",
       "      <td>136.399994</td>\n",
       "      <td>136.468903</td>\n",
       "      <td>135.610001</td>\n",
       "      <td>135.630005</td>\n",
       "      <td>1128116</td>\n",
       "    </tr>\n",
       "    <tr>\n",
       "      <th>55</th>\n",
       "      <td>2019-10-23 16:15:00</td>\n",
       "      <td>135.625000</td>\n",
       "      <td>136.169998</td>\n",
       "      <td>135.619995</td>\n",
       "      <td>135.955002</td>\n",
       "      <td>1138469</td>\n",
       "    </tr>\n",
       "    <tr>\n",
       "      <th>56</th>\n",
       "      <td>2019-10-23 16:30:00</td>\n",
       "      <td>135.955002</td>\n",
       "      <td>136.080002</td>\n",
       "      <td>135.720001</td>\n",
       "      <td>135.860001</td>\n",
       "      <td>879996</td>\n",
       "    </tr>\n",
       "    <tr>\n",
       "      <th>57</th>\n",
       "      <td>2019-10-23 16:45:00</td>\n",
       "      <td>135.865005</td>\n",
       "      <td>136.240005</td>\n",
       "      <td>135.835007</td>\n",
       "      <td>135.940002</td>\n",
       "      <td>798661</td>\n",
       "    </tr>\n",
       "    <tr>\n",
       "      <th>58</th>\n",
       "      <td>2019-10-23 17:00:00</td>\n",
       "      <td>135.940002</td>\n",
       "      <td>136.220001</td>\n",
       "      <td>135.919998</td>\n",
       "      <td>136.119995</td>\n",
       "      <td>709041</td>\n",
       "    </tr>\n",
       "    <tr>\n",
       "      <th>59</th>\n",
       "      <td>2019-10-23 17:15:00</td>\n",
       "      <td>136.130005</td>\n",
       "      <td>136.366501</td>\n",
       "      <td>136.125000</td>\n",
       "      <td>136.300003</td>\n",
       "      <td>794084</td>\n",
       "    </tr>\n",
       "    <tr>\n",
       "      <th>60</th>\n",
       "      <td>2019-10-23 17:30:00</td>\n",
       "      <td>136.300003</td>\n",
       "      <td>136.380005</td>\n",
       "      <td>136.100006</td>\n",
       "      <td>136.229507</td>\n",
       "      <td>522158</td>\n",
       "    </tr>\n",
       "    <tr>\n",
       "      <th>61</th>\n",
       "      <td>2019-10-23 17:45:00</td>\n",
       "      <td>136.220001</td>\n",
       "      <td>136.350006</td>\n",
       "      <td>136.205002</td>\n",
       "      <td>136.240005</td>\n",
       "      <td>320471</td>\n",
       "    </tr>\n",
       "    <tr>\n",
       "      <th>62</th>\n",
       "      <td>2019-10-23 17:53:44</td>\n",
       "      <td>136.199997</td>\n",
       "      <td>136.199997</td>\n",
       "      <td>136.199997</td>\n",
       "      <td>136.199997</td>\n",
       "      <td>0</td>\n",
       "    </tr>\n",
       "  </tbody>\n",
       "</table>\n",
       "</div>"
      ],
      "text/plain": [
       "                  date        open        high         low       close  \\\n",
       "52 2019-10-23 15:30:00  136.880005  136.889999  135.809998  136.600006   \n",
       "53 2019-10-23 15:45:00  136.639999  136.839996  136.330002  136.399994   \n",
       "54 2019-10-23 16:00:00  136.399994  136.468903  135.610001  135.630005   \n",
       "55 2019-10-23 16:15:00  135.625000  136.169998  135.619995  135.955002   \n",
       "56 2019-10-23 16:30:00  135.955002  136.080002  135.720001  135.860001   \n",
       "57 2019-10-23 16:45:00  135.865005  136.240005  135.835007  135.940002   \n",
       "58 2019-10-23 17:00:00  135.940002  136.220001  135.919998  136.119995   \n",
       "59 2019-10-23 17:15:00  136.130005  136.366501  136.125000  136.300003   \n",
       "60 2019-10-23 17:30:00  136.300003  136.380005  136.100006  136.229507   \n",
       "61 2019-10-23 17:45:00  136.220001  136.350006  136.205002  136.240005   \n",
       "62 2019-10-23 17:53:44  136.199997  136.199997  136.199997  136.199997   \n",
       "\n",
       "     volume  \n",
       "52  3052310  \n",
       "53  1201578  \n",
       "54  1128116  \n",
       "55  1138469  \n",
       "56   879996  \n",
       "57   798661  \n",
       "58   709041  \n",
       "59   794084  \n",
       "60   522158  \n",
       "61   320471  \n",
       "62        0  "
      ]
     },
     "execution_count": 5,
     "metadata": {},
     "output_type": "execute_result"
    }
   ],
   "source": [
    "#Creamos la fecha para filtrar solo los datos de la última sesion\n",
    "date_from = dt.datetime(2019, 10, 23, 15, 30, 0) #Horario de apertura (hora de España)\n",
    "date_to = dt.datetime(2019, 10, 23, 21, 45, 0) #Horario de cierre (hora de España)\n",
    "\n",
    "#Filtro por fecha y hora para obtener todos los registros dentro del horario de contratación\n",
    "df['date'] = pd.to_datetime(df['date'])\n",
    "df = df[(df['date'] >= date_from) & (df['date'] <= date_to)]\n",
    "\n",
    "df.tail(30)"
   ]
  },
  {
   "cell_type": "code",
   "execution_count": 6,
   "metadata": {},
   "outputs": [
    {
     "name": "stdout",
     "output_type": "stream",
     "text": [
      "Populating the interactive namespace from numpy and matplotlib\n"
     ]
    },
    {
     "data": {
      "image/png": "[encoded data removed]",
      "text/plain": [
       "<Figure size 720x432 with 1 Axes>"
      ]
     },
     "metadata": {
      "needs_background": "light"
     },
     "output_type": "display_data"
    }
   ],
   "source": [
    "#Mostramos un sencillo gráfico con los datos obtenidos\n",
    "import matplotlib.pyplot as plt\n",
    "import matplotlib.dates as mdates\n",
    "from pandas.plotting import register_matplotlib_converters\n",
    "\n",
    "%matplotlib inline\n",
    "%pylab inline\n",
    "\n",
    "register_matplotlib_converters()\n",
    "fig, ax = plt.subplots()\n",
    "\n",
    "hours = mdates.HourLocator(interval = 1)\n",
    "h_fmt = mdates.DateFormatter('%H:%M:%S')\n",
    "\n",
    "ax.xaxis.set_major_locator(hours)\n",
    "ax.xaxis.set_major_formatter(h_fmt)\n",
    "ax.plot(df['date'], df['close'], linewidth = 1.2)\n",
    "\n",
    "fig.set_size_inches(10, 6)\n",
    "fig.autofmt_xdate()\n",
    "\n",
    "plt.grid()\n"
   ]
  },
  {
   "cell_type": "code",
   "execution_count": null,
   "metadata": {},
   "outputs": [],
   "source": []
  }
 ],
 "metadata": {
  "kernelspec": {
   "display_name": "Python 3",
   "language": "python",
   "name": "python3"
  },
  "language_info": {
   "codemirror_mode": {
    "name": "ipython",
    "version": 3
   },
   "file_extension": ".py",
   "mimetype": "text/x-python",
   "name": "python",
   "nbconvert_exporter": "python",
   "pygments_lexer": "ipython3",
   "version": "3.7.3"
  }
 },
 "nbformat": 4,
 "nbformat_minor": 2
}
